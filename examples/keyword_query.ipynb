{
 "cells": [
  {
   "cell_type": "markdown",
   "id": "8d388686",
   "metadata": {},
   "source": [
    "Suppose we want to download all papers submitted to arxiv.org yesterday (May 10, 2023 when this example was written) that have 'LIGO' and 'gravitational waves' in their abstracts. To begin, we import the `pyxiv` library."
   ]
  },
  {
   "cell_type": "code",
   "execution_count": 1,
   "id": "2975d4d4",
   "metadata": {},
   "outputs": [],
   "source": [
    "import sys\n",
    "sys.path.append(\"../\")\n",
    "import pyxiv"
   ]
  },
  {
   "cell_type": "markdown",
   "id": "65e7ed85",
   "metadata": {},
   "source": [
    "With the import complete, we now create the relevant instance of the `Search` class. Based on the kind of search we want to perform, our search must specify `query`, `start_date`, and `end_date`.\n",
    "\n",
    "As we saw in `full_query.ipynb`, the query strings can be rather long (in this case the full query reads `\"abs:LIGO AND abs:gravitational waves\"`), and typing them can be error-prone. Thankfully, there is a way to speed up the construction of a query involving keywords: `keyword_query`. This function returns the appropriate query string when given a list of keywords, a field type to search, and a boolean value to join the keywords.\n",
    "\n",
    "Since we want `start_date` and `end_date` to both be yesterday, we can simply set both to `\"yesterday\"`, which gets converted to a true date behind the scenes.\n",
    "\n",
    "Putting everything together, we get the following instance of `Search`."
   ]
  },
  {
   "cell_type": "code",
   "execution_count": 2,
   "id": "c8e7de1a",
   "metadata": {},
   "outputs": [],
   "source": [
    "query = pyxiv.keyword_query(\n",
    "    keywords   = [\"LIGO\", \"gravitational waves\"],\n",
    "    field_type = \"abs\",\n",
    "    logical    = \"AND\"\n",
    ")\n",
    "\n",
    "search = pyxiv.Search(\n",
    "    query      = query,\n",
    "    start_date = \"yesterday\",\n",
    "    end_date   = \"yesterday\"\n",
    ")"
   ]
  },
  {
   "cell_type": "markdown",
   "id": "160f9c1f",
   "metadata": {},
   "source": [
    "We can view the results of this search, as explained in `full_query.ipynb`, by calling the `results` method."
   ]
  },
  {
   "cell_type": "code",
   "execution_count": 3,
   "id": "81160e5b",
   "metadata": {},
   "outputs": [
    {
     "name": "stdout",
     "output_type": "stream",
     "text": [
      "Acquiring query results from the arXiv API...\n",
      "Results acquired in 4.0 sec.\n",
      "The specified query yielded 2 results:\n",
      "----------------------------------------\n",
      "arXiv.org e-Print 2305.05844v1\n",
      "----------------------------------------\n",
      "Title: Constraining gravitational wave amplitude birefringence with GWTC-3\n",
      "Author(s): Thomas C. K. Ng, Maximiliano Isi, Kaze W. K. Wong, Will M. Farr\n",
      "Primary category: gr-qc\n",
      "URL: https://arxiv.org/pdf/2305.05844v1.pdf\n",
      "Submitted: 2023-05-10\n",
      "----------------------------------------\n",
      "arXiv.org e-Print 2305.06286v1\n",
      "----------------------------------------\n",
      "Title: Improved ranking statistics of the GstLAL inspiral search for compact\n",
      "  binary coalescences\n",
      "Author(s): Leo Tsukada, Prathamesh Joshi, Shomik Adhicary, Richard George, Andre Guimaraes, Chad Hanna, Ryan Magee, Aaron Zimmerman, Pratyusava Baral, Amanda Baylor, Kipp Cannon, Sarah Caudill, Bryce Cousins, Jolien D. E. Creighton, Becca Ewing, Heather Fong, Patrick Godwin, Reiko Harada, Yun-Jing Huang, Rachael Huxford, James Kennington, Soichiro Kuwahara, Alvin K. Y. Li, Duncan Meacher, Cody Messick, Soichiro Morisaki, Debnandini Mukherjee, Wanting Niu, Alex Pace, Cort Posnansky, Anarya Ray, Surabhi Sachdev, Shio Sakon, Divya Singh, Ron Tapia, Takuya Tsutsui, Koh Ueno, Aaron Viets, Leslie Wade, Madeline Wade\n",
      "Primary category: astro-ph.IM\n",
      "URL: https://arxiv.org/pdf/2305.06286v1.pdf\n",
      "Submitted: 2023-05-10\n"
     ]
    }
   ],
   "source": [
    "results = search.results()\n",
    "print(results)"
   ]
  },
  {
   "cell_type": "markdown",
   "id": "5109a932",
   "metadata": {},
   "source": [
    "In a similar manner, they can be downloaded by calling the `download` method."
   ]
  },
  {
   "cell_type": "code",
   "execution_count": 4,
   "id": "0dccc6ec",
   "metadata": {},
   "outputs": [
    {
     "name": "stdout",
     "output_type": "stream",
     "text": [
      "Acquiring query results from the arXiv API...\n",
      "Results acquired in 3.6 sec.\n",
      "Downloading e-prints...\n",
      "[1/2] 'Constraining gravitational wave amplitude birefringence with GWTC-3' (2305.05844v1)\n",
      "[2/2] 'Improved ranking statistics of the GstLAL inspiral search for compact\n",
      "  binary coalescences' (2305.06286v1)\n",
      "Download complete! 2 e-prints (11.5 MiB) were downloaded in 7.8 sec and saved to ./papers.\n"
     ]
    }
   ],
   "source": [
    "downloads = search.download_results(\"./papers\")"
   ]
  }
 ],
 "metadata": {
  "kernelspec": {
   "display_name": "Python 3 (ipykernel)",
   "language": "python",
   "name": "python3"
  },
  "language_info": {
   "codemirror_mode": {
    "name": "ipython",
    "version": 3
   },
   "file_extension": ".py",
   "mimetype": "text/x-python",
   "name": "python",
   "nbconvert_exporter": "python",
   "pygments_lexer": "ipython3",
   "version": "3.10.6"
  }
 },
 "nbformat": 4,
 "nbformat_minor": 5
}
