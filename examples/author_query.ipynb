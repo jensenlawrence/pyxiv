{
 "cells": [
  {
   "cell_type": "markdown",
   "id": "8bbfd532",
   "metadata": {},
   "source": [
    "Suppose we want to download all papers submitted to arxiv.org from January 1, 2023 to today (May 11, 2023 when this example was written) that have Prof. Will Percival as an author/co-author. To begin, we import the `pyxiv` library."
   ]
  },
  {
   "cell_type": "code",
   "execution_count": 1,
   "id": "bd642582",
   "metadata": {},
   "outputs": [],
   "source": [
    "import sys\n",
    "sys.path.append(\"../\")\n",
    "import pyxiv"
   ]
  },
  {
   "cell_type": "markdown",
   "id": "a97efe67",
   "metadata": {},
   "source": [
    "With the import complete, we now create the relevant instance of the `Search` class. Based on the kind of search we want to perform, our search must specify `query` and `start_date`. Note that unlike the examples in `full_query.ipynb` and `keyword_query.ipynb`, we do not have to specify `end_date`. This is because `end_date` is set to today's date by default.\n",
    "\n",
    "To avoid typing out the full query string, we use the `author_query` function, which only requires the author's first and last names.\n",
    "\n",
    "Since we want `start_date` to be January 1, 2023, we convert this date to an ISO-formatted date string (i.e. a string of the form `\"YYYY-MM-DD\"`) and set `start_date = \"2023-01-01\"`.\n",
    "\n",
    "Putting everything together, we get the following instance of `Search`."
   ]
  },
  {
   "cell_type": "code",
   "execution_count": 2,
   "id": "4bcdd9fc",
   "metadata": {},
   "outputs": [],
   "source": [
    "query = pyxiv.author_query(\n",
    "    first_name = \"Will\",\n",
    "    last_name  = \"Percival\"\n",
    ")\n",
    "\n",
    "search = pyxiv.Search(\n",
    "    query      = query,\n",
    "    start_date = \"2023-01-01\"\n",
    ")"
   ]
  },
  {
   "cell_type": "markdown",
   "id": "fe4904b7",
   "metadata": {},
   "source": [
    "We can view the results of this search, as explained in `full_query.ipynb`, by calling the `results` method."
   ]
  },
  {
   "cell_type": "code",
   "execution_count": 3,
   "id": "ade24d3e",
   "metadata": {},
   "outputs": [
    {
     "name": "stdout",
     "output_type": "stream",
     "text": [
      "Note: a value of `start_date` earlier than yesterday has been used. It may be necessary to increase `max_results` to ensure the query searches sufficiently far back in time. The maximum permitted value of `max_results` is 30,000.\n",
      "Acquiring query results from the arXiv API...\n",
      "Results acquired in 3.8 sec.\n",
      "The specified query yielded 7 results:\n",
      "----------------------------------------\n",
      "arXiv.org e-Print 2302.01777v1\n",
      "----------------------------------------\n",
      "Title: DESI z >~ 5 Quasar Survey. I. A First Sample of 400 New Quasars at z ~\n",
      "  4.7-6.6\n",
      "Author(s): Jinyi Yang, Xiaohui Fan, Ansh Gupta, Adam Myers, Nathalie Palanque-Delabrouille, Feige Wang, Christophe Yèche, Jessica Nicole Aguilar, Steven Ahlen, David Alexander, David Brooks, Kyle Dawson, Axel de la Macorra, Arjun Dey, Govinda Dhungana, Kevin Fanning, Andreu Font-Ribera, Satya Gontcho, Julien Guy, Klaus Honscheid, Stephanie Juneau, Theodore Kisner, Anthony Kremin, Laurent Le Guillou, Michael Levi, Christophe Magneville, Paul Martini, Aaron Meisner, Ramon Miquel, John Moustakas, Jundan Nie, Will Percival, Claire Poppett, Francisco Prada, Edward Schlafly, Gregory Tarlé, Mariana Vargas Magana, Benjamin Alan Weaver, Risa Wechsler, Rongpu Zhou, Zhimin Zhou, Hu Zou\n",
      "Primary category: astro-ph.GA\n",
      "URL: https://arxiv.org/pdf/2302.01777v1.pdf\n",
      "Submitted: 2023-02-03\n",
      "----------------------------------------\n",
      "arXiv.org e-Print 2302.11621v1\n",
      "----------------------------------------\n",
      "Title: Isolating the linear signal when making redshift space distortion\n",
      "  measurements\n",
      "Author(s): Michael J. Chapman, Zhongxu Zhai, Will J. Percival\n",
      "Primary category: astro-ph.CO\n",
      "URL: https://arxiv.org/pdf/2302.11621v1.pdf\n",
      "Submitted: 2023-02-22\n",
      "----------------------------------------\n",
      "arXiv.org e-Print 2302.13760v1\n",
      "----------------------------------------\n",
      "Title: Target Selection for the DESI Peculiar Velocity Survey\n",
      "Author(s): Christoph Saulder, Cullan Howlett, Kelly A. Douglass, Khaled Said, Segev BenZvi, Steven Ahlen, Greg Aldering, Stephen Bailey, David Brooks, Tamara Davis, Axel de la Macorra, Arjun Dey, Andreu Font-Ribera, Jaime E. Forero-Romero, Satya Gontcho A Gontcho, Klaus Honscheid, Alex G. Kim, Theodore Kisner, Anthony Kremin, Martin Landriau, Michael E. Levi, John Lucey, Aaron M. Meisner, Ramon Miquel, John Moustakas, Adam D. Myers, Nathalie Palanque-Delabrouille, Will Percival, Claire Poppett, Francisco Prada, Fei Qin, Michael Schubnell, Gregory Tarlé, Mariana Vargas Magaña, Benjamin Alan Weaver, Rongpu Zhou, Zhimin Zhou, Hu Zou\n",
      "Primary category: astro-ph.CO\n",
      "URL: https://arxiv.org/pdf/2302.13760v1.pdf\n",
      "Submitted: 2023-02-27\n",
      "----------------------------------------\n",
      "arXiv.org e-Print 2303.05717v1\n",
      "----------------------------------------\n",
      "Title: The effective volume of supernovae samples and sample variance\n",
      "Author(s): Zhongxu Zhai, Will J. Percival\n",
      "Primary category: astro-ph.CO\n",
      "URL: https://arxiv.org/pdf/2303.05717v1.pdf\n",
      "Submitted: 2023-03-10\n",
      "----------------------------------------\n",
      "arXiv.org e-Print 2303.06143v1\n",
      "----------------------------------------\n",
      "Title: Cosmological measurements from void-galaxy and galaxy-galaxy clustering\n",
      "  in the Sloan Digital Sky Survey\n",
      "Author(s): Alex Woodfinden, Will J. Percival, Seshadri Nadathur, Hans A. Winther, T. S. Fraser, Elena Massara, Enrique Paillas, Slađana Radinović\n",
      "Primary category: astro-ph.CO\n",
      "URL: https://arxiv.org/pdf/2303.06143v1.pdf\n",
      "Submitted: 2023-03-10\n",
      "----------------------------------------\n",
      "arXiv.org e-Print 2303.17095v1\n",
      "----------------------------------------\n",
      "Title: Small scale clustering of BOSS galaxies: dependence on luminosity,\n",
      "  color, age, stellar mass, specific star formation rate and other properties\n",
      "Author(s): Zhongxu Zhai, Will J. Percival, Hong Guo\n",
      "Primary category: astro-ph.CO\n",
      "URL: https://arxiv.org/pdf/2303.17095v1.pdf\n",
      "Submitted: 2023-03-30\n",
      "----------------------------------------\n",
      "arXiv.org e-Print 2304.08427v1\n",
      "----------------------------------------\n",
      "Title: First Detection of the BAO Signal from Early DESI Data\n",
      "Author(s): Jeongin Moon, David Valcin, Michael Rashkovetskyi, Christoph Saulder, Jessica Nicole Aguilar, Steven Ahlen, Shadab Alam, Stephen Bailey, Charles Baltay, Robert Blum, David Brooks, Etienne Burtin, Edmond Chaussidon, Kyle Dawson, Axel de la Macorra, Arnaud de Mattia, Govinda Dhungana, Daniel Eisenstein, Brenna Flaugher, Andreu Font-Ribera, Cristhian Garcia-Quintero, Julien Guy, Malik Muhammad Sikandar Hanif, Klaus Honscheid, Mustapha Ishak, Robert Kehoe, Sumi Kim, Theodore Kisner, Anthony Kremin, Martin Landriau, Laurent Le Guillou, Michael Levi, Paul Martini, Patrick McDonald, Aaron Meisner, Ramon Miquel, John Moustakas, Adam Myers, Seshadri Nadathur, Richard Neveux, Jeffrey A. Newman, Jundan Nie, Nikhil Padmanabhan, Nathalie Palanque-Delabrouille, Will Percival, Alejandro Pérez Fernández, Claire Poppett, Francisco Prada, Ashley J. Ross, Graziano Rossi, Hee-Jong Seo, Gregory Tarlé, Mariana Vargas Magana, Andrei Variu, Benjamin Alan Weaver, Martin J. White, Sihan Yuan, Cheng Zhao, Rongpu Zhou, Zhimin Zhou, Hu Zou\n",
      "Primary category: astro-ph.CO\n",
      "URL: https://arxiv.org/pdf/2304.08427v1.pdf\n",
      "Submitted: 2023-04-17\n"
     ]
    }
   ],
   "source": [
    "results = search.results()\n",
    "print(results)"
   ]
  },
  {
   "cell_type": "markdown",
   "id": "b8ddd29f",
   "metadata": {},
   "source": [
    "In a similar manner, they can be downloaded by calling the `download` method."
   ]
  },
  {
   "cell_type": "code",
   "execution_count": 4,
   "id": "c0faf3ab",
   "metadata": {},
   "outputs": [
    {
     "name": "stdout",
     "output_type": "stream",
     "text": [
      "Note: a value of `start_date` earlier than yesterday has been used. It may be necessary to increase `max_results` to ensure the query searches sufficiently far back in time. The maximum permitted value of `max_results` is 30,000.\n",
      "Acquiring query results from the arXiv API...\n",
      "Results acquired in 3.1 sec.\n",
      "Downloading e-prints...\n",
      "[1/7] 'DESI z >~ 5 Quasar Survey. I. A First Sample of 400 New Quasars at z ~\n",
      "  4.7-6.6' (2302.01777v1)\n",
      "[2/7] 'Isolating the linear signal when making redshift space distortion\n",
      "  measurements' (2302.11621v1)\n",
      "[3/7] 'Target Selection for the DESI Peculiar Velocity Survey' (2302.13760v1)\n",
      "[4/7] 'The effective volume of supernovae samples and sample variance' (2303.05717v1)\n",
      "[5/7] 'Cosmological measurements from void-galaxy and galaxy-galaxy clustering\n",
      "  in the Sloan Digital Sky Survey' (2303.06143v1)\n",
      "[6/7] 'Small scale clustering of BOSS galaxies: dependence on luminosity,\n",
      "  color, age, stellar mass, specific star formation rate and other properties' (2303.17095v1)\n",
      "[7/7] 'First Detection of the BAO Signal from Early DESI Data' (2304.08427v1)\n",
      "Download complete! 7 e-prints (36.5 MiB) were downloaded in 19.6 sec and saved to ./papers.\n"
     ]
    }
   ],
   "source": [
    "downloads = search.download_results(\"./papers\")"
   ]
  }
 ],
 "metadata": {
  "kernelspec": {
   "display_name": "Python 3 (ipykernel)",
   "language": "python",
   "name": "python3"
  },
  "language_info": {
   "codemirror_mode": {
    "name": "ipython",
    "version": 3
   },
   "file_extension": ".py",
   "mimetype": "text/x-python",
   "name": "python",
   "nbconvert_exporter": "python",
   "pygments_lexer": "ipython3",
   "version": "3.10.6"
  }
 },
 "nbformat": 4,
 "nbformat_minor": 5
}
