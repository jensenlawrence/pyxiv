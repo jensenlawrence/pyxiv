{
 "cells": [
  {
   "cell_type": "markdown",
   "id": "a842f38b",
   "metadata": {},
   "source": [
    "Suppose you know the arXiv ID of a paper you're interested in, but for some reason enjoy making your life harder and refuse to open a browser. Thankfully, you can find out everything you want to know about this paper using the `eprint_from_arxiv_id` function. To begin, we import the `pyxiv` library."
   ]
  },
  {
   "cell_type": "code",
   "execution_count": 1,
   "id": "4ca75025",
   "metadata": {},
   "outputs": [],
   "source": [
    "import sys\n",
    "sys.path.append(\"../\")\n",
    "import pyxiv"
   ]
  },
  {
   "cell_type": "markdown",
   "id": "415f1a69",
   "metadata": {},
   "source": [
    "To obtain your paper of interest from the arXiv API, all you need to do is pass its arXiv ID as a string to `eprint_from_arxiv_id`."
   ]
  },
  {
   "cell_type": "code",
   "execution_count": 2,
   "id": "8c2ccceb",
   "metadata": {},
   "outputs": [],
   "source": [
    "eprint = pyxiv.eprint_from_arxiv_id(\"2203.17185\")"
   ]
  },
  {
   "cell_type": "markdown",
   "id": "670cf39b",
   "metadata": {},
   "source": [
    "`eprint` is an instance of the `ePrint` class, which comes equipped with the `summary` and `download` methods. Calling the `summary` method prints important data associated with the paper."
   ]
  },
  {
   "cell_type": "code",
   "execution_count": 3,
   "id": "eaca5cf6",
   "metadata": {},
   "outputs": [
    {
     "name": "stdout",
     "output_type": "stream",
     "text": [
      "----------------------------------------\n",
      "arXiv.org e-Print 2203.17185v1\n",
      "----------------------------------------\n",
      "Title: First Detections of Exop(lan)ets: Observations and Follow-Ups of the\n",
      "  Floofiest Transits on Zoom\n",
      "Author(s): Sabina Sagynbayeva, Briley L. Lewis, Graham M. Doskoch, Ali Crisp, Catherine A. Clark, Katya Gozman, Gourav Khullar, Haley Wahl, Jenny K. Calahan, Mark Popinchalk, Samuel Factor, Macy Huston, Pratik Gandhi, Isabella Trierweiler, Suchitra Narayanan, Jonathan Brande, Michael M. Foley, Olivia R. Cooper, Ben Cassese\n",
      "Primary category: astro-ph.EP\n",
      "URL: https://arxiv.org/pdf/2203.17185v1.pdf\n",
      "Submitted: 2022-03-31\n"
     ]
    }
   ],
   "source": [
    "summary = eprint.summary()\n",
    "print(summary)"
   ]
  },
  {
   "cell_type": "markdown",
   "id": "0076e20f",
   "metadata": {},
   "source": [
    "`summary` has an optional argument `detail` that is set to `\"low\"` by default. To get a more detailed view of the paper data, we can instead set `detail = \"high\"`. This gives us the following."
   ]
  },
  {
   "cell_type": "code",
   "execution_count": 4,
   "id": "b27b62ab",
   "metadata": {},
   "outputs": [
    {
     "name": "stdout",
     "output_type": "stream",
     "text": [
      "----------------------------------------\n",
      "arXiv.org e-Print 2203.17185v1\n",
      "----------------------------------------\n",
      "Title: First Detections of Exop(lan)ets: Observations and Follow-Ups of the\n",
      "  Floofiest Transits on Zoom\n",
      "Author(s): Sabina Sagynbayeva, Briley L. Lewis, Graham M. Doskoch, Ali Crisp, Catherine A. Clark, Katya Gozman, Gourav Khullar, Haley Wahl, Jenny K. Calahan, Mark Popinchalk, Samuel Factor, Macy Huston, Pratik Gandhi, Isabella Trierweiler, Suchitra Narayanan, Jonathan Brande, Michael M. Foley, Olivia R. Cooper, Ben Cassese\n",
      "Abstract: With the proliferation of online Zoom meetings as a means of doing science in\n",
      "the 2020s, astronomers have made new and unexpected Target of Opportunity (ToO)\n",
      "observations. Chief among these ToOs are observations of exop(lan)ets, or\n",
      "\"exopets.\" Building on the work of Mayorga et al. (2021) - whose work\n",
      "characterized the rotational variations of \"floofy\" objects - we model exopets\n",
      "using methods similar to those used for exoplanetary transits. We present data\n",
      "collected for such exopet Zoom transits through a citizen science program in\n",
      "the month of February 2022. The dataset includes parameters like exopet color,\n",
      "floofiness, transit duration, and percentage of Zoom screen covered during the\n",
      "event. For some targets, we also present microlensing and direct imaging data.\n",
      "Using results from our modelling of 62 exopet observations as transits,\n",
      "microlensing, and direct imaging events, we discuss our inferences of exopet\n",
      "characteristics like their masses, sizes, orbits, colors, and floofiness.\n",
      "Comment: 21 pages, 14 figures, 3 tables, 62 floofers\n",
      "Primary category: astro-ph.EP\n",
      "All categories: astro-ph.EP, astro-ph.IM\n",
      "URL: https://arxiv.org/pdf/2203.17185v1.pdf\n",
      "DOI: None\n",
      "Journal reference: None\n",
      "Submitted: 2022-03-31\n",
      "Last updated: 2022-03-31\n"
     ]
    }
   ],
   "source": [
    "summary = eprint.summary(detail=\"high\")\n",
    "print(summary)"
   ]
  },
  {
   "cell_type": "markdown",
   "id": "9d269e5b",
   "metadata": {},
   "source": [
    "Downloading the paper is as simple as running `eprint.download(save_directory)`, where `save_directory` is the path to where the paper will be saved as a .pdf file. If `save_directory` does not already exist, it is automatically created. Note that `download_results` returns the path to where the paper has been downloaded."
   ]
  },
  {
   "cell_type": "code",
   "execution_count": 5,
   "id": "66f58501",
   "metadata": {},
   "outputs": [
    {
     "name": "stdout",
     "output_type": "stream",
     "text": [
      "Downloading 'First Detections of Exop(lan)ets: Observations and Follow-Ups of the\n",
      "  Floofiest Transits on Zoom' (2203.17185v1)...\n",
      "Download complete! e-Print saved as ./papers/2203.17185v1.pdf.\n"
     ]
    }
   ],
   "source": [
    "download = eprint.download(\"./papers\")"
   ]
  }
 ],
 "metadata": {
  "kernelspec": {
   "display_name": "Python 3 (ipykernel)",
   "language": "python",
   "name": "python3"
  },
  "language_info": {
   "codemirror_mode": {
    "name": "ipython",
    "version": 3
   },
   "file_extension": ".py",
   "mimetype": "text/x-python",
   "name": "python",
   "nbconvert_exporter": "python",
   "pygments_lexer": "ipython3",
   "version": "3.10.6"
  }
 },
 "nbformat": 4,
 "nbformat_minor": 5
}
